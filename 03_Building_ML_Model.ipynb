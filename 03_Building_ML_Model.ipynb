{
 "cells": [
  {
   "cell_type": "markdown",
   "metadata": {},
   "source": [
    "# Seoul Bike Trip Duration Prediction"
   ]
  },
  {
   "cell_type": "markdown",
   "metadata": {},
   "source": [
    "<img src=\"Features_Description.png\" style=\"float:right;\" width=\"500\"/>\n",
    "\n",
    "### Context\n",
    "- Trip duration is the most fundamental measure in all modes of transportation. \n",
    "- Hence, it is crucial to predict the trip-time precisely for the advancement of Intelligent Transport Systems (ITS) and traveller information systems. \n",
    "- In order to predict the trip duration, data mining techniques are employed in this paper to predict the trip duration of rental bikes in Seoul Bike sharing system. \n",
    "- The prediction is carried out with the combination of Seoul Bike data and weather data.\n",
    "\n",
    "### Content\n",
    "- The Data used include trip duration, trip distance, pickup-dropoff latitude and longitude, \n",
    "temperature, precipitation, wind speed, humidity, solar radiation, snowfall, ground temperature and 1-hour average dust concentration.\n",
    "\n",
    "### Acknowledgements\n",
    "- V E, Sathishkumar (2020), \"Seoul Bike Trip duration prediction\", Mendeley Data, V1, doi: 10.17632/gtfh9z865f.1\n",
    "- Sathishkumar V E, Jangwoo Park, Yongyun Cho, (2019), Seoul bike trip duration prediction using data mining techniques, IET Intelligent Transport Systems, doi: 10.1049/iet-its.2019.0796\n",
    "\n",
    "### Goal\n",
    "- Predict the trip duration\n",
    "\n",
    "### Steps\n",
    "- Exploratory Data Analysis (EDA)\n",
    "- Data Preprocessing\n",
    "- Feature Selection / Transformation\n",
    "- **Mahcine Learning Algorithm**\n",
    "- **Feature Importance / Engineering**\n",
    "- **Hyperparameter Tuning**\n",
    "- **Explainable AL/ML**\n",
    "- Model Deployment"
   ]
  },
  {
   "cell_type": "markdown",
   "metadata": {},
   "source": [
    "## Load libraries"
   ]
  },
  {
   "cell_type": "code",
   "execution_count": 2,
   "metadata": {},
   "outputs": [],
   "source": [
    "import numpy as np\n",
    "import pandas as pd\n",
    "import matplotlib.pyplot as plt\n",
    "import seaborn as sns\n",
    "\n",
    "import joblib\n",
    "\n",
    "from helper_functions import *\n",
    "\n",
    "from timeit import default_timer as timer"
   ]
  },
  {
   "cell_type": "markdown",
   "metadata": {},
   "source": [
    "## Data"
   ]
  },
  {
   "cell_type": "code",
   "execution_count": 3,
   "metadata": {},
   "outputs": [],
   "source": [
    "from sklearn.model_selection import train_test_split\n",
    "\n",
    "X_train, X_val, X_test, y_train, y_val, y_test = \\\n",
    "joblib.load('data/X_train.pkl'),\\\n",
    "joblib.load('data/X_val.pkl'),\\\n",
    "joblib.load('data/X_test.pkl'),\\\n",
    "joblib.load('data/y_train.pkl'),\\\n",
    "joblib.load('data/y_val.pkl'),\\\n",
    "joblib.load('data/y_test.pkl')\n",
    "\n",
    "rfe_features = X_train.columns\n",
    "\n",
    "train_dataset = X_train.copy()\n",
    "train_dataset['Duration'] = y_train"
   ]
  },
  {
   "cell_type": "code",
   "execution_count": 4,
   "metadata": {},
   "outputs": [
    {
     "data": {
      "text/plain": [
       "((3964624, 10), (495578, 10), (495579, 10), (3964624,), (495578,), (495579,))"
      ]
     },
     "execution_count": 4,
     "metadata": {},
     "output_type": "execute_result"
    }
   ],
   "source": [
    "X_train.shape, X_val.shape, X_test.shape, y_train.shape, y_val.shape, y_test.shape"
   ]
  },
  {
   "cell_type": "code",
   "execution_count": 26,
   "metadata": {},
   "outputs": [
    {
     "data": {
      "text/html": [
       "<div>\n",
       "<style scoped>\n",
       "    .dataframe tbody tr th:only-of-type {\n",
       "        vertical-align: middle;\n",
       "    }\n",
       "\n",
       "    .dataframe tbody tr th {\n",
       "        vertical-align: top;\n",
       "    }\n",
       "\n",
       "    .dataframe thead th {\n",
       "        text-align: right;\n",
       "    }\n",
       "</style>\n",
       "<table border=\"1\" class=\"dataframe\">\n",
       "  <thead>\n",
       "    <tr style=\"text-align: right;\">\n",
       "      <th></th>\n",
       "      <th>Distance</th>\n",
       "      <th>Haversine</th>\n",
       "      <th>Phour</th>\n",
       "      <th>Pmin</th>\n",
       "      <th>Dhour</th>\n",
       "      <th>Dmin</th>\n",
       "      <th>Temp</th>\n",
       "      <th>Humid</th>\n",
       "      <th>Solar</th>\n",
       "      <th>Dust</th>\n",
       "      <th>Duration</th>\n",
       "    </tr>\n",
       "  </thead>\n",
       "  <tbody>\n",
       "    <tr>\n",
       "      <th>71152</th>\n",
       "      <td>1110</td>\n",
       "      <td>0.711671</td>\n",
       "      <td>17</td>\n",
       "      <td>23</td>\n",
       "      <td>17</td>\n",
       "      <td>29</td>\n",
       "      <td>4.8</td>\n",
       "      <td>38.0</td>\n",
       "      <td>0.47</td>\n",
       "      <td>64.0</td>\n",
       "      <td>5</td>\n",
       "    </tr>\n",
       "    <tr>\n",
       "      <th>3611655</th>\n",
       "      <td>2600</td>\n",
       "      <td>1.159844</td>\n",
       "      <td>17</td>\n",
       "      <td>57</td>\n",
       "      <td>18</td>\n",
       "      <td>13</td>\n",
       "      <td>24.3</td>\n",
       "      <td>31.0</td>\n",
       "      <td>1.17</td>\n",
       "      <td>22.0</td>\n",
       "      <td>14</td>\n",
       "    </tr>\n",
       "    <tr>\n",
       "      <th>52753</th>\n",
       "      <td>2200</td>\n",
       "      <td>0.847054</td>\n",
       "      <td>13</td>\n",
       "      <td>49</td>\n",
       "      <td>14</td>\n",
       "      <td>42</td>\n",
       "      <td>-1.3</td>\n",
       "      <td>35.0</td>\n",
       "      <td>1.18</td>\n",
       "      <td>62.0</td>\n",
       "      <td>52</td>\n",
       "    </tr>\n",
       "    <tr>\n",
       "      <th>4716811</th>\n",
       "      <td>4370</td>\n",
       "      <td>3.123298</td>\n",
       "      <td>8</td>\n",
       "      <td>26</td>\n",
       "      <td>8</td>\n",
       "      <td>49</td>\n",
       "      <td>2.0</td>\n",
       "      <td>84.0</td>\n",
       "      <td>0.03</td>\n",
       "      <td>59.0</td>\n",
       "      <td>22</td>\n",
       "    </tr>\n",
       "    <tr>\n",
       "      <th>3867208</th>\n",
       "      <td>3600</td>\n",
       "      <td>2.344361</td>\n",
       "      <td>9</td>\n",
       "      <td>36</td>\n",
       "      <td>9</td>\n",
       "      <td>50</td>\n",
       "      <td>12.2</td>\n",
       "      <td>51.0</td>\n",
       "      <td>1.02</td>\n",
       "      <td>20.0</td>\n",
       "      <td>14</td>\n",
       "    </tr>\n",
       "    <tr>\n",
       "      <th>...</th>\n",
       "      <td>...</td>\n",
       "      <td>...</td>\n",
       "      <td>...</td>\n",
       "      <td>...</td>\n",
       "      <td>...</td>\n",
       "      <td>...</td>\n",
       "      <td>...</td>\n",
       "      <td>...</td>\n",
       "      <td>...</td>\n",
       "      <td>...</td>\n",
       "      <td>...</td>\n",
       "    </tr>\n",
       "    <tr>\n",
       "      <th>4457994</th>\n",
       "      <td>400</td>\n",
       "      <td>0.368593</td>\n",
       "      <td>8</td>\n",
       "      <td>50</td>\n",
       "      <td>8</td>\n",
       "      <td>53</td>\n",
       "      <td>11.3</td>\n",
       "      <td>89.0</td>\n",
       "      <td>0.01</td>\n",
       "      <td>94.0</td>\n",
       "      <td>3</td>\n",
       "    </tr>\n",
       "    <tr>\n",
       "      <th>2541668</th>\n",
       "      <td>2290</td>\n",
       "      <td>1.545385</td>\n",
       "      <td>19</td>\n",
       "      <td>14</td>\n",
       "      <td>19</td>\n",
       "      <td>28</td>\n",
       "      <td>33.5</td>\n",
       "      <td>54.0</td>\n",
       "      <td>0.35</td>\n",
       "      <td>21.0</td>\n",
       "      <td>13</td>\n",
       "    </tr>\n",
       "    <tr>\n",
       "      <th>250565</th>\n",
       "      <td>8490</td>\n",
       "      <td>3.400058</td>\n",
       "      <td>19</td>\n",
       "      <td>14</td>\n",
       "      <td>20</td>\n",
       "      <td>12</td>\n",
       "      <td>8.8</td>\n",
       "      <td>49.0</td>\n",
       "      <td>0.05</td>\n",
       "      <td>27.0</td>\n",
       "      <td>55</td>\n",
       "    </tr>\n",
       "    <tr>\n",
       "      <th>229772</th>\n",
       "      <td>1860</td>\n",
       "      <td>1.380952</td>\n",
       "      <td>8</td>\n",
       "      <td>29</td>\n",
       "      <td>8</td>\n",
       "      <td>42</td>\n",
       "      <td>3.8</td>\n",
       "      <td>56.0</td>\n",
       "      <td>0.32</td>\n",
       "      <td>14.0</td>\n",
       "      <td>12</td>\n",
       "    </tr>\n",
       "    <tr>\n",
       "      <th>2619902</th>\n",
       "      <td>310</td>\n",
       "      <td>0.255919</td>\n",
       "      <td>19</td>\n",
       "      <td>5</td>\n",
       "      <td>19</td>\n",
       "      <td>7</td>\n",
       "      <td>32.6</td>\n",
       "      <td>60.0</td>\n",
       "      <td>0.37</td>\n",
       "      <td>21.0</td>\n",
       "      <td>2</td>\n",
       "    </tr>\n",
       "  </tbody>\n",
       "</table>\n",
       "<p>3964624 rows × 11 columns</p>\n",
       "</div>"
      ],
      "text/plain": [
       "         Distance  Haversine  Phour  Pmin  Dhour  Dmin  Temp  Humid  Solar  \\\n",
       "71152        1110   0.711671     17    23     17    29   4.8   38.0   0.47   \n",
       "3611655      2600   1.159844     17    57     18    13  24.3   31.0   1.17   \n",
       "52753        2200   0.847054     13    49     14    42  -1.3   35.0   1.18   \n",
       "4716811      4370   3.123298      8    26      8    49   2.0   84.0   0.03   \n",
       "3867208      3600   2.344361      9    36      9    50  12.2   51.0   1.02   \n",
       "...           ...        ...    ...   ...    ...   ...   ...    ...    ...   \n",
       "4457994       400   0.368593      8    50      8    53  11.3   89.0   0.01   \n",
       "2541668      2290   1.545385     19    14     19    28  33.5   54.0   0.35   \n",
       "250565       8490   3.400058     19    14     20    12   8.8   49.0   0.05   \n",
       "229772       1860   1.380952      8    29      8    42   3.8   56.0   0.32   \n",
       "2619902       310   0.255919     19     5     19     7  32.6   60.0   0.37   \n",
       "\n",
       "         Dust  Duration  \n",
       "71152    64.0         5  \n",
       "3611655  22.0        14  \n",
       "52753    62.0        52  \n",
       "4716811  59.0        22  \n",
       "3867208  20.0        14  \n",
       "...       ...       ...  \n",
       "4457994  94.0         3  \n",
       "2541668  21.0        13  \n",
       "250565   27.0        55  \n",
       "229772   14.0        12  \n",
       "2619902  21.0         2  \n",
       "\n",
       "[3964624 rows x 11 columns]"
      ]
     },
     "execution_count": 26,
     "metadata": {},
     "output_type": "execute_result"
    }
   ],
   "source": [
    "train_dataset"
   ]
  },
  {
   "cell_type": "markdown",
   "metadata": {},
   "source": [
    "### Feature scaling"
   ]
  },
  {
   "cell_type": "code",
   "execution_count": 6,
   "metadata": {},
   "outputs": [
    {
     "data": {
      "text/plain": [
       "['models/scalar.joblib']"
      ]
     },
     "execution_count": 6,
     "metadata": {},
     "output_type": "execute_result"
    }
   ],
   "source": [
    "from sklearn.preprocessing import StandardScaler\n",
    "\n",
    "scalar = StandardScaler()\n",
    "X_train = scalar.fit_transform(X_train)\n",
    "X_val = scalar.transform(X_val)\n",
    "X_test = scalar.transform(X_test)\n",
    "\n",
    "joblib.dump(scalar, 'models/scalar.joblib')"
   ]
  },
  {
   "cell_type": "markdown",
   "metadata": {},
   "source": [
    "## Machine Learning Algorithms"
   ]
  },
  {
   "cell_type": "code",
   "execution_count": 7,
   "metadata": {},
   "outputs": [],
   "source": [
    "def fit_ML_model(modelName, model, error=pd.DataFrame(\n",
    "    [], index=['Train Loss','Val Loss', 'Test Loss', 'y_mean','Time (s)'])):\n",
    "\n",
    "    from sklearn.metrics import mean_squared_error\n",
    "    \n",
    "    start = timer()\n",
    "    \n",
    "    model.fit(X_train, y_train)\n",
    "    rmse_train = mean_squared_error(y_train, model.predict(X_train))**0.5\n",
    "    rmse_val = mean_squared_error(y_val, model.predict(X_val))**0.5\n",
    "    rmse_test = mean_squared_error(y_test, model.predict(X_test))**0.5\n",
    "\n",
    "    end = timer()\n",
    "\n",
    "    error[modelName] = [rmse_train, rmse_val, rmse_test, y_train.mean(), end-start]\n",
    "\n",
    "    return model, error"
   ]
  },
  {
   "cell_type": "markdown",
   "metadata": {},
   "source": [
    "###  Linear Regression"
   ]
  },
  {
   "cell_type": "code",
   "execution_count": 8,
   "metadata": {},
   "outputs": [
    {
     "data": {
      "text/html": [
       "<div>\n",
       "<style scoped>\n",
       "    .dataframe tbody tr th:only-of-type {\n",
       "        vertical-align: middle;\n",
       "    }\n",
       "\n",
       "    .dataframe tbody tr th {\n",
       "        vertical-align: top;\n",
       "    }\n",
       "\n",
       "    .dataframe thead th {\n",
       "        text-align: right;\n",
       "    }\n",
       "</style>\n",
       "<table border=\"1\" class=\"dataframe\">\n",
       "  <thead>\n",
       "    <tr style=\"text-align: right;\">\n",
       "      <th></th>\n",
       "      <th>LinReg</th>\n",
       "    </tr>\n",
       "  </thead>\n",
       "  <tbody>\n",
       "    <tr>\n",
       "      <th>Train Loss</th>\n",
       "      <td>4.145283</td>\n",
       "    </tr>\n",
       "    <tr>\n",
       "      <th>Val Loss</th>\n",
       "      <td>3.886713</td>\n",
       "    </tr>\n",
       "    <tr>\n",
       "      <th>Test Loss</th>\n",
       "      <td>4.274747</td>\n",
       "    </tr>\n",
       "    <tr>\n",
       "      <th>y_mean</th>\n",
       "      <td>20.644918</td>\n",
       "    </tr>\n",
       "    <tr>\n",
       "      <th>Time (s)</th>\n",
       "      <td>2.789263</td>\n",
       "    </tr>\n",
       "  </tbody>\n",
       "</table>\n",
       "</div>"
      ],
      "text/plain": [
       "               LinReg\n",
       "Train Loss   4.145283\n",
       "Val Loss     3.886713\n",
       "Test Loss    4.274747\n",
       "y_mean      20.644918\n",
       "Time (s)     2.789263"
      ]
     },
     "execution_count": 8,
     "metadata": {},
     "output_type": "execute_result"
    }
   ],
   "source": [
    "from sklearn.linear_model import LinearRegression\n",
    "\n",
    "modelName = 'LinReg'\n",
    "lr, error = fit_ML_model(modelName, LinearRegression())\n",
    "\n",
    "feature_importances = pd.DataFrame(abs(lr.coef_), index=rfe_features, columns=[modelName])\n",
    "feature_importances[modelName] /= feature_importances[modelName].max()\n",
    "\n",
    "joblib.dump(lr, 'models/LinReg.pkl', compress=3)\n",
    "\n",
    "error"
   ]
  },
  {
   "cell_type": "markdown",
   "metadata": {},
   "source": [
    "### Random Forest"
   ]
  },
  {
   "cell_type": "code",
   "execution_count": 9,
   "metadata": {},
   "outputs": [
    {
     "data": {
      "text/html": [
       "<div>\n",
       "<style scoped>\n",
       "    .dataframe tbody tr th:only-of-type {\n",
       "        vertical-align: middle;\n",
       "    }\n",
       "\n",
       "    .dataframe tbody tr th {\n",
       "        vertical-align: top;\n",
       "    }\n",
       "\n",
       "    .dataframe thead th {\n",
       "        text-align: right;\n",
       "    }\n",
       "</style>\n",
       "<table border=\"1\" class=\"dataframe\">\n",
       "  <thead>\n",
       "    <tr style=\"text-align: right;\">\n",
       "      <th></th>\n",
       "      <th>LinReg</th>\n",
       "      <th>RandForest</th>\n",
       "    </tr>\n",
       "  </thead>\n",
       "  <tbody>\n",
       "    <tr>\n",
       "      <th>Train Loss</th>\n",
       "      <td>4.145283</td>\n",
       "      <td>1.602342</td>\n",
       "    </tr>\n",
       "    <tr>\n",
       "      <th>Val Loss</th>\n",
       "      <td>3.886713</td>\n",
       "      <td>3.415504</td>\n",
       "    </tr>\n",
       "    <tr>\n",
       "      <th>Test Loss</th>\n",
       "      <td>4.274747</td>\n",
       "      <td>3.419786</td>\n",
       "    </tr>\n",
       "    <tr>\n",
       "      <th>y_mean</th>\n",
       "      <td>20.644918</td>\n",
       "      <td>20.644918</td>\n",
       "    </tr>\n",
       "    <tr>\n",
       "      <th>Time (s)</th>\n",
       "      <td>2.789263</td>\n",
       "      <td>547.514429</td>\n",
       "    </tr>\n",
       "  </tbody>\n",
       "</table>\n",
       "</div>"
      ],
      "text/plain": [
       "               LinReg  RandForest\n",
       "Train Loss   4.145283    1.602342\n",
       "Val Loss     3.886713    3.415504\n",
       "Test Loss    4.274747    3.419786\n",
       "y_mean      20.644918   20.644918\n",
       "Time (s)     2.789263  547.514429"
      ]
     },
     "execution_count": 9,
     "metadata": {},
     "output_type": "execute_result"
    }
   ],
   "source": [
    "from sklearn.ensemble import RandomForestRegressor\n",
    "\n",
    "modelName = 'RandForest'\n",
    "rf = RandomForestRegressor(n_estimators=100, min_samples_split=5, n_jobs=-1)\n",
    "rf, error = fit_ML_model(modelName, rf)\n",
    "\n",
    "feature_importances[modelName] = rf.feature_importances_\n",
    "feature_importances[modelName] /= feature_importances[modelName].max()\n",
    "\n",
    "joblib.dump(rf, 'models/RandForest.joblib', compress=3)\n",
    "\n",
    "error"
   ]
  },
  {
   "cell_type": "markdown",
   "metadata": {},
   "source": [
    "### XGBoost"
   ]
  },
  {
   "cell_type": "code",
   "execution_count": 10,
   "metadata": {},
   "outputs": [
    {
     "name": "stdout",
     "output_type": "stream",
     "text": [
      "[13:53:58] WARNING: ../src/learner.cc:573: \n",
      "Parameters: { \"early_stopping_rounds\", \"eval_set\", \"verbose\" } might not be used.\n",
      "\n",
      "  This may not be accurate due to some parameters are only used in language bindings but\n",
      "  passed down to XGBoost core.  Or some parameters are not used but slip through this\n",
      "  verification. Please open an issue if you find above cases.\n",
      "\n",
      "\n"
     ]
    },
    {
     "data": {
      "text/html": [
       "<div>\n",
       "<style scoped>\n",
       "    .dataframe tbody tr th:only-of-type {\n",
       "        vertical-align: middle;\n",
       "    }\n",
       "\n",
       "    .dataframe tbody tr th {\n",
       "        vertical-align: top;\n",
       "    }\n",
       "\n",
       "    .dataframe thead th {\n",
       "        text-align: right;\n",
       "    }\n",
       "</style>\n",
       "<table border=\"1\" class=\"dataframe\">\n",
       "  <thead>\n",
       "    <tr style=\"text-align: right;\">\n",
       "      <th></th>\n",
       "      <th>LinReg</th>\n",
       "      <th>RandForest</th>\n",
       "      <th>XGBoost</th>\n",
       "    </tr>\n",
       "  </thead>\n",
       "  <tbody>\n",
       "    <tr>\n",
       "      <th>Train Loss</th>\n",
       "      <td>4.145283</td>\n",
       "      <td>1.602342</td>\n",
       "      <td>3.687873</td>\n",
       "    </tr>\n",
       "    <tr>\n",
       "      <th>Val Loss</th>\n",
       "      <td>3.886713</td>\n",
       "      <td>3.415504</td>\n",
       "      <td>3.757414</td>\n",
       "    </tr>\n",
       "    <tr>\n",
       "      <th>Test Loss</th>\n",
       "      <td>4.274747</td>\n",
       "      <td>3.419786</td>\n",
       "      <td>3.770613</td>\n",
       "    </tr>\n",
       "    <tr>\n",
       "      <th>y_mean</th>\n",
       "      <td>20.644918</td>\n",
       "      <td>20.644918</td>\n",
       "      <td>20.644918</td>\n",
       "    </tr>\n",
       "    <tr>\n",
       "      <th>Time (s)</th>\n",
       "      <td>2.789263</td>\n",
       "      <td>547.514429</td>\n",
       "      <td>134.070765</td>\n",
       "    </tr>\n",
       "  </tbody>\n",
       "</table>\n",
       "</div>"
      ],
      "text/plain": [
       "               LinReg  RandForest     XGBoost\n",
       "Train Loss   4.145283    1.602342    3.687873\n",
       "Val Loss     3.886713    3.415504    3.757414\n",
       "Test Loss    4.274747    3.419786    3.770613\n",
       "y_mean      20.644918   20.644918   20.644918\n",
       "Time (s)     2.789263  547.514429  134.070765"
      ]
     },
     "execution_count": 10,
     "metadata": {},
     "output_type": "execute_result"
    }
   ],
   "source": [
    "from xgboost import XGBRegressor\n",
    "from sklearn.metrics import mean_squared_error\n",
    "\n",
    "modelName = 'XGBoost'\n",
    "xgb = XGBRegressor(learning_rate=0.3, n_estimators=100, n_jobs=-1,\n",
    "                   tree_method='exact', eval_set=[(X_val, y_val)], \n",
    "                   early_stopping_rounds=10, verbose=1)\n",
    "xgb, error = fit_ML_model(modelName, xgb)\n",
    "\n",
    "feature_importances[modelName] = xgb.feature_importances_\n",
    "feature_importances[modelName] /= feature_importances[modelName].max()\n",
    "\n",
    "joblib.dump(xgb, 'models/XGBoost.joblib', compress=3)\n",
    "\n",
    "error"
   ]
  },
  {
   "cell_type": "markdown",
   "metadata": {},
   "source": [
    "### Neural Network"
   ]
  },
  {
   "cell_type": "code",
   "execution_count": 11,
   "metadata": {
    "scrolled": true
   },
   "outputs": [
    {
     "name": "stdout",
     "output_type": "stream",
     "text": [
      "Model: \"sequential\"\n",
      "_________________________________________________________________\n",
      "Layer (type)                 Output Shape              Param #   \n",
      "=================================================================\n",
      "dense (Dense)                (None, 64)                704       \n",
      "_________________________________________________________________\n",
      "dense_1 (Dense)              (None, 64)                4160      \n",
      "_________________________________________________________________\n",
      "dense_2 (Dense)              (None, 1)                 65        \n",
      "=================================================================\n",
      "Total params: 4,929\n",
      "Trainable params: 4,929\n",
      "Non-trainable params: 0\n",
      "_________________________________________________________________\n"
     ]
    }
   ],
   "source": [
    "import tensorflow as tf\n",
    "from tensorflow import keras\n",
    "\n",
    "nodes = 64\n",
    "n_hidden = 2\n",
    "activation = 'relu'\n",
    "\n",
    "ann = tf.keras.Sequential(keras.layers.Dense(nodes, activation=activation, input_shape=X_train.shape[1:]))\n",
    "\n",
    "for _ in range(n_hidden-1):  \n",
    "    ann.add(keras.layers.Dense(nodes, activation=activation))\n",
    "\n",
    "ann.add(keras.layers.Dense(1))\n",
    "\n",
    "ann.summary()"
   ]
  },
  {
   "cell_type": "code",
   "execution_count": 12,
   "metadata": {
    "collapsed": true
   },
   "outputs": [
    {
     "name": "stdout",
     "output_type": "stream",
     "text": [
      "Epoch 1/1000\n",
      "397/397 [==============================] - 4s 9ms/step - loss: 388.2310 - val_loss: 109.9931\n",
      "Epoch 2/1000\n",
      "397/397 [==============================] - 2s 5ms/step - loss: 94.0738 - val_loss: 39.8690\n",
      "Epoch 3/1000\n",
      "397/397 [==============================] - 2s 5ms/step - loss: 24.9281 - val_loss: 6.1508\n",
      "Epoch 4/1000\n",
      "397/397 [==============================] - 2s 5ms/step - loss: 5.5047 - val_loss: 4.7020\n",
      "Epoch 5/1000\n",
      "397/397 [==============================] - 2s 5ms/step - loss: 4.3393 - val_loss: 4.2027\n",
      "Epoch 6/1000\n",
      "397/397 [==============================] - 2s 5ms/step - loss: 4.0276 - val_loss: 3.7820\n",
      "Epoch 7/1000\n",
      "397/397 [==============================] - 2s 5ms/step - loss: 3.5925 - val_loss: 3.3401\n",
      "Epoch 8/1000\n",
      "397/397 [==============================] - 2s 5ms/step - loss: 2.9991 - val_loss: 2.8667\n",
      "Epoch 9/1000\n",
      "397/397 [==============================] - 2s 5ms/step - loss: 2.6444 - val_loss: 2.4799\n",
      "Epoch 10/1000\n",
      "397/397 [==============================] - 2s 6ms/step - loss: 2.2913 - val_loss: 2.2259\n",
      "Epoch 11/1000\n",
      "397/397 [==============================] - 2s 5ms/step - loss: 2.0767 - val_loss: 2.0674\n",
      "Epoch 12/1000\n",
      "397/397 [==============================] - 2s 5ms/step - loss: 1.9855 - val_loss: 1.9824\n",
      "Epoch 13/1000\n",
      "397/397 [==============================] - 2s 5ms/step - loss: 1.9148 - val_loss: 1.9367\n",
      "Epoch 14/1000\n",
      "397/397 [==============================] - 2s 5ms/step - loss: 1.8512 - val_loss: 1.9175\n",
      "Epoch 15/1000\n",
      "397/397 [==============================] - 2s 5ms/step - loss: 1.8070 - val_loss: 1.9085\n",
      "Epoch 16/1000\n",
      "397/397 [==============================] - 2s 5ms/step - loss: 1.7852 - val_loss: 1.8701\n",
      "Epoch 17/1000\n",
      "397/397 [==============================] - 2s 5ms/step - loss: 1.7919 - val_loss: 1.8423\n",
      "Epoch 18/1000\n",
      "397/397 [==============================] - 2s 5ms/step - loss: 1.7959 - val_loss: 1.8355\n",
      "Epoch 19/1000\n",
      "397/397 [==============================] - 2s 5ms/step - loss: 1.7395 - val_loss: 1.7988\n",
      "Epoch 20/1000\n",
      "397/397 [==============================] - 2s 5ms/step - loss: 1.7189 - val_loss: 1.7779\n",
      "Epoch 21/1000\n",
      "397/397 [==============================] - 2s 5ms/step - loss: 1.6902 - val_loss: 1.7703\n",
      "Epoch 22/1000\n",
      "397/397 [==============================] - 2s 5ms/step - loss: 1.7060 - val_loss: 1.7456\n",
      "Epoch 23/1000\n",
      "397/397 [==============================] - 2s 5ms/step - loss: 1.6528 - val_loss: 1.7294\n",
      "Epoch 24/1000\n",
      "397/397 [==============================] - 2s 5ms/step - loss: 1.6451 - val_loss: 1.7197\n",
      "Epoch 25/1000\n",
      "397/397 [==============================] - 2s 5ms/step - loss: 1.6658 - val_loss: 1.7054\n",
      "Epoch 26/1000\n",
      "397/397 [==============================] - 2s 5ms/step - loss: 1.6369 - val_loss: 1.6930\n",
      "Epoch 27/1000\n",
      "397/397 [==============================] - 2s 5ms/step - loss: 1.6108 - val_loss: 1.6777\n",
      "Epoch 28/1000\n",
      "397/397 [==============================] - 2s 5ms/step - loss: 1.6159 - val_loss: 1.6801\n",
      "Epoch 29/1000\n",
      "397/397 [==============================] - 2s 5ms/step - loss: 1.6015 - val_loss: 1.6553\n",
      "Epoch 30/1000\n",
      "397/397 [==============================] - 2s 5ms/step - loss: 1.6375 - val_loss: 1.6547\n",
      "Epoch 31/1000\n",
      "397/397 [==============================] - 2s 5ms/step - loss: 1.6302 - val_loss: 1.6615\n",
      "Epoch 32/1000\n",
      "397/397 [==============================] - 2s 5ms/step - loss: 1.5911 - val_loss: 1.6349\n",
      "Epoch 33/1000\n",
      "397/397 [==============================] - 2s 5ms/step - loss: 1.5992 - val_loss: 1.6385\n",
      "Epoch 34/1000\n",
      "397/397 [==============================] - 2s 5ms/step - loss: 1.6028 - val_loss: 1.6403\n",
      "Epoch 35/1000\n",
      "397/397 [==============================] - 2s 5ms/step - loss: 1.5548 - val_loss: 1.6251\n",
      "Epoch 36/1000\n",
      "397/397 [==============================] - 2s 5ms/step - loss: 1.5674 - val_loss: 1.6364\n",
      "Epoch 37/1000\n",
      "397/397 [==============================] - 2s 5ms/step - loss: 1.5478 - val_loss: 1.6185\n",
      "Epoch 38/1000\n",
      "397/397 [==============================] - 2s 5ms/step - loss: 1.6036 - val_loss: 1.6171\n",
      "Epoch 39/1000\n",
      "397/397 [==============================] - 2s 5ms/step - loss: 1.5625 - val_loss: 1.6147\n",
      "Epoch 40/1000\n",
      "397/397 [==============================] - 2s 5ms/step - loss: 1.5741 - val_loss: 1.6024\n",
      "Epoch 41/1000\n",
      "397/397 [==============================] - 2s 5ms/step - loss: 1.5685 - val_loss: 1.6103\n",
      "Epoch 42/1000\n",
      "397/397 [==============================] - 2s 6ms/step - loss: 1.5641 - val_loss: 1.5997\n",
      "Epoch 43/1000\n",
      "397/397 [==============================] - 2s 5ms/step - loss: 1.5847 - val_loss: 1.5903\n",
      "Epoch 44/1000\n",
      "397/397 [==============================] - 2s 5ms/step - loss: 1.5522 - val_loss: 1.5927\n",
      "Epoch 45/1000\n",
      "397/397 [==============================] - 2s 5ms/step - loss: 1.5637 - val_loss: 1.5938\n",
      "Epoch 46/1000\n",
      "397/397 [==============================] - 2s 5ms/step - loss: 1.5503 - val_loss: 1.6113\n",
      "Epoch 47/1000\n",
      "397/397 [==============================] - 2s 5ms/step - loss: 1.4952 - val_loss: 1.5767\n",
      "Epoch 48/1000\n",
      "397/397 [==============================] - 2s 5ms/step - loss: 1.5864 - val_loss: 1.5862\n",
      "Epoch 49/1000\n",
      "397/397 [==============================] - 2s 5ms/step - loss: 1.5047 - val_loss: 1.5747\n",
      "Epoch 50/1000\n",
      "397/397 [==============================] - 2s 5ms/step - loss: 1.5292 - val_loss: 1.5730\n",
      "Epoch 51/1000\n",
      "397/397 [==============================] - 2s 5ms/step - loss: 1.5034 - val_loss: 1.5712\n",
      "Epoch 52/1000\n",
      "397/397 [==============================] - 2s 5ms/step - loss: 1.4944 - val_loss: 1.5651\n",
      "Epoch 53/1000\n",
      "397/397 [==============================] - 2s 5ms/step - loss: 1.5490 - val_loss: 1.5570\n",
      "Epoch 54/1000\n",
      "397/397 [==============================] - 2s 5ms/step - loss: 1.4953 - val_loss: 1.5701\n",
      "Epoch 55/1000\n",
      "397/397 [==============================] - 2s 5ms/step - loss: 1.5122 - val_loss: 1.5574\n",
      "Epoch 56/1000\n",
      "397/397 [==============================] - 2s 5ms/step - loss: 1.4911 - val_loss: 1.5485\n",
      "Epoch 57/1000\n",
      "397/397 [==============================] - 2s 5ms/step - loss: 1.5154 - val_loss: 1.5455\n",
      "Epoch 58/1000\n",
      "397/397 [==============================] - 2s 5ms/step - loss: 1.5209 - val_loss: 1.5424\n",
      "Epoch 59/1000\n",
      "397/397 [==============================] - 2s 5ms/step - loss: 1.4901 - val_loss: 1.5330\n",
      "Epoch 60/1000\n",
      "397/397 [==============================] - 2s 5ms/step - loss: 1.5142 - val_loss: 1.5436\n",
      "Epoch 61/1000\n",
      "397/397 [==============================] - 2s 5ms/step - loss: 1.4883 - val_loss: 1.5641\n",
      "Epoch 62/1000\n",
      "397/397 [==============================] - 2s 5ms/step - loss: 1.4828 - val_loss: 1.5162\n",
      "Epoch 63/1000\n",
      "397/397 [==============================] - 2s 5ms/step - loss: 1.5101 - val_loss: 1.5228\n",
      "Epoch 64/1000\n",
      "397/397 [==============================] - 2s 5ms/step - loss: 1.4838 - val_loss: 1.5264\n",
      "Epoch 65/1000\n",
      "397/397 [==============================] - 2s 5ms/step - loss: 1.4714 - val_loss: 1.5197\n",
      "Epoch 66/1000\n",
      "397/397 [==============================] - 2s 5ms/step - loss: 1.4872 - val_loss: 1.5164\n",
      "Epoch 67/1000\n",
      "397/397 [==============================] - 2s 5ms/step - loss: 1.4538 - val_loss: 1.5071\n",
      "Epoch 68/1000\n",
      "397/397 [==============================] - 2s 5ms/step - loss: 1.4295 - val_loss: 1.5030\n",
      "Epoch 69/1000\n",
      "397/397 [==============================] - 2s 5ms/step - loss: 1.4517 - val_loss: 1.4948\n",
      "Epoch 70/1000\n",
      "397/397 [==============================] - 2s 5ms/step - loss: 1.4316 - val_loss: 1.5048\n",
      "Epoch 71/1000\n",
      "397/397 [==============================] - 2s 5ms/step - loss: 1.4406 - val_loss: 1.4942\n",
      "Epoch 72/1000\n",
      "397/397 [==============================] - 2s 5ms/step - loss: 1.4668 - val_loss: 1.5197\n",
      "Epoch 73/1000\n",
      "397/397 [==============================] - 2s 5ms/step - loss: 1.4348 - val_loss: 1.4992\n",
      "Epoch 74/1000\n",
      "397/397 [==============================] - 2s 5ms/step - loss: 1.4325 - val_loss: 1.5128\n",
      "Epoch 75/1000\n",
      "397/397 [==============================] - 2s 5ms/step - loss: 1.4332 - val_loss: 1.4923\n",
      "Epoch 76/1000\n",
      "397/397 [==============================] - 2s 5ms/step - loss: 1.4772 - val_loss: 1.4886\n",
      "Epoch 77/1000\n",
      "397/397 [==============================] - 2s 5ms/step - loss: 1.4265 - val_loss: 1.4889\n",
      "Epoch 78/1000\n",
      "397/397 [==============================] - 2s 5ms/step - loss: 1.4095 - val_loss: 1.5086\n",
      "Epoch 79/1000\n",
      "397/397 [==============================] - 2s 5ms/step - loss: 1.4453 - val_loss: 1.4864\n",
      "Epoch 80/1000\n"
     ]
    },
    {
     "name": "stdout",
     "output_type": "stream",
     "text": [
      "397/397 [==============================] - 2s 5ms/step - loss: 1.4438 - val_loss: 1.4860\n",
      "Epoch 81/1000\n",
      "397/397 [==============================] - 2s 5ms/step - loss: 1.4085 - val_loss: 1.4860\n",
      "Epoch 82/1000\n",
      "397/397 [==============================] - 2s 5ms/step - loss: 1.4508 - val_loss: 1.4674\n",
      "Epoch 83/1000\n",
      "397/397 [==============================] - 2s 5ms/step - loss: 1.4033 - val_loss: 1.4764\n",
      "Epoch 84/1000\n",
      "397/397 [==============================] - 2s 5ms/step - loss: 1.4197 - val_loss: 1.4695\n",
      "Epoch 85/1000\n",
      "397/397 [==============================] - 2s 5ms/step - loss: 1.4254 - val_loss: 1.4718\n",
      "Epoch 86/1000\n",
      "397/397 [==============================] - 2s 5ms/step - loss: 1.4213 - val_loss: 1.4575\n",
      "Epoch 87/1000\n",
      "397/397 [==============================] - 2s 5ms/step - loss: 1.4468 - val_loss: 1.4597\n",
      "Epoch 88/1000\n",
      "397/397 [==============================] - 2s 5ms/step - loss: 1.3992 - val_loss: 1.4507\n",
      "Epoch 89/1000\n",
      "397/397 [==============================] - 2s 5ms/step - loss: 1.4301 - val_loss: 1.4478\n",
      "Epoch 90/1000\n",
      "397/397 [==============================] - 2s 5ms/step - loss: 1.4105 - val_loss: 1.4442\n",
      "Epoch 91/1000\n",
      "397/397 [==============================] - 2s 5ms/step - loss: 1.3901 - val_loss: 1.4462\n",
      "Epoch 92/1000\n",
      "397/397 [==============================] - 2s 5ms/step - loss: 1.3766 - val_loss: 1.4466\n",
      "Epoch 93/1000\n",
      "397/397 [==============================] - 2s 5ms/step - loss: 1.4002 - val_loss: 1.4442\n",
      "Epoch 94/1000\n",
      "397/397 [==============================] - 2s 5ms/step - loss: 1.4011 - val_loss: 1.4321\n",
      "Epoch 95/1000\n",
      "397/397 [==============================] - 2s 5ms/step - loss: 1.3650 - val_loss: 1.4465\n",
      "Epoch 96/1000\n",
      "397/397 [==============================] - 2s 5ms/step - loss: 1.3660 - val_loss: 1.4250\n",
      "Epoch 97/1000\n",
      "397/397 [==============================] - 2s 5ms/step - loss: 1.3883 - val_loss: 1.4225\n",
      "Epoch 98/1000\n",
      "397/397 [==============================] - 2s 5ms/step - loss: 1.3904 - val_loss: 1.4249\n",
      "Epoch 99/1000\n",
      "397/397 [==============================] - 2s 5ms/step - loss: 1.3962 - val_loss: 1.4287\n",
      "Epoch 100/1000\n",
      "397/397 [==============================] - 2s 5ms/step - loss: 1.3559 - val_loss: 1.4173\n",
      "Epoch 101/1000\n",
      "397/397 [==============================] - 2s 5ms/step - loss: 1.3805 - val_loss: 1.4309\n",
      "Epoch 102/1000\n",
      "397/397 [==============================] - 2s 5ms/step - loss: 1.3687 - val_loss: 1.4335\n",
      "Epoch 103/1000\n",
      "397/397 [==============================] - 2s 5ms/step - loss: 1.3493 - val_loss: 1.4458\n",
      "Epoch 104/1000\n",
      "397/397 [==============================] - 2s 5ms/step - loss: 1.3503 - val_loss: 1.4151\n",
      "Epoch 105/1000\n",
      "397/397 [==============================] - 2s 5ms/step - loss: 1.3824 - val_loss: 1.4270\n",
      "Epoch 106/1000\n",
      "397/397 [==============================] - 2s 5ms/step - loss: 1.3625 - val_loss: 1.4402\n",
      "Epoch 107/1000\n",
      "397/397 [==============================] - 2s 5ms/step - loss: 1.3801 - val_loss: 1.4403\n",
      "Epoch 108/1000\n",
      "397/397 [==============================] - 2s 5ms/step - loss: 1.3623 - val_loss: 1.4177\n",
      "Epoch 109/1000\n",
      "397/397 [==============================] - 2s 5ms/step - loss: 1.3342 - val_loss: 1.4185\n"
     ]
    }
   ],
   "source": [
    "epochs = 1000\n",
    "batch_size = 10000\n",
    "\n",
    "lr = 1e-3\n",
    "\n",
    "optimizer = tf.keras.optimizers.Adam(learning_rate=lr) \n",
    "ann.compile(loss='mean_squared_error', optimizer=optimizer)\n",
    "\n",
    "checkpoint_cb = keras.callbacks.ModelCheckpoint(\"models/ANN.h5\", save_best_only=True)\n",
    "early_stopping_cb = keras.callbacks.EarlyStopping(patience=5, restore_best_weights=True)\n",
    "\n",
    "start = timer()\n",
    "history = ann.fit(X_train, y_train, validation_data=(X_val, y_val), \n",
    "                  epochs=epochs, batch_size=batch_size, validation_batch_size=batch_size,\n",
    "                  callbacks=[checkpoint_cb, early_stopping_cb])\n",
    "\n",
    "end = timer()"
   ]
  },
  {
   "cell_type": "code",
   "execution_count": 13,
   "metadata": {},
   "outputs": [],
   "source": [
    "# still need to find a good way to determine feature importance using NN --> SHAP (later)\n",
    "# feature_importances['NN_CPU'] =np.mean(abs(ann.weights[0]), axis=1)"
   ]
  },
  {
   "cell_type": "code",
   "execution_count": 14,
   "metadata": {},
   "outputs": [
    {
     "data": {
      "image/png": "[encoded data removed]",
      "text/plain": [
       "<Figure size 576x360 with 1 Axes>"
      ]
     },
     "metadata": {
      "needs_background": "light"
     },
     "output_type": "display_data"
    }
   ],
   "source": [
    "pd.DataFrame(history.history).plot(figsize=(8, 5))\n",
    "plt.grid(True)\n",
    "plt.gca().set_ylim(0, 10)\n",
    "plt.show()"
   ]
  },
  {
   "cell_type": "code",
   "execution_count": 15,
   "metadata": {
    "scrolled": true
   },
   "outputs": [
    {
     "data": {
      "text/html": [
       "<div>\n",
       "<style scoped>\n",
       "    .dataframe tbody tr th:only-of-type {\n",
       "        vertical-align: middle;\n",
       "    }\n",
       "\n",
       "    .dataframe tbody tr th {\n",
       "        vertical-align: top;\n",
       "    }\n",
       "\n",
       "    .dataframe thead th {\n",
       "        text-align: right;\n",
       "    }\n",
       "</style>\n",
       "<table border=\"1\" class=\"dataframe\">\n",
       "  <thead>\n",
       "    <tr style=\"text-align: right;\">\n",
       "      <th></th>\n",
       "      <th>LinReg</th>\n",
       "      <th>RandForest</th>\n",
       "      <th>XGBoost</th>\n",
       "      <th>NN_CPU</th>\n",
       "    </tr>\n",
       "  </thead>\n",
       "  <tbody>\n",
       "    <tr>\n",
       "      <th>Train Loss</th>\n",
       "      <td>4.145283</td>\n",
       "      <td>1.602342</td>\n",
       "      <td>3.687873</td>\n",
       "      <td>1.168208</td>\n",
       "    </tr>\n",
       "    <tr>\n",
       "      <th>Val Loss</th>\n",
       "      <td>3.886713</td>\n",
       "      <td>3.415504</td>\n",
       "      <td>3.757414</td>\n",
       "      <td>1.189576</td>\n",
       "    </tr>\n",
       "    <tr>\n",
       "      <th>Test Loss</th>\n",
       "      <td>4.274747</td>\n",
       "      <td>3.419786</td>\n",
       "      <td>3.770613</td>\n",
       "      <td>1.190364</td>\n",
       "    </tr>\n",
       "    <tr>\n",
       "      <th>y_mean</th>\n",
       "      <td>20.644918</td>\n",
       "      <td>20.644918</td>\n",
       "      <td>20.644918</td>\n",
       "      <td>20.644918</td>\n",
       "    </tr>\n",
       "    <tr>\n",
       "      <th>Time (s)</th>\n",
       "      <td>2.789263</td>\n",
       "      <td>547.514429</td>\n",
       "      <td>134.070765</td>\n",
       "      <td>221.045986</td>\n",
       "    </tr>\n",
       "  </tbody>\n",
       "</table>\n",
       "</div>"
      ],
      "text/plain": [
       "               LinReg  RandForest     XGBoost      NN_CPU\n",
       "Train Loss   4.145283    1.602342    3.687873    1.168208\n",
       "Val Loss     3.886713    3.415504    3.757414    1.189576\n",
       "Test Loss    4.274747    3.419786    3.770613    1.190364\n",
       "y_mean      20.644918   20.644918   20.644918   20.644918\n",
       "Time (s)     2.789263  547.514429  134.070765  221.045986"
      ]
     },
     "execution_count": 15,
     "metadata": {},
     "output_type": "execute_result"
    }
   ],
   "source": [
    "from sklearn.metrics import mean_squared_error\n",
    "\n",
    "rmse_train = mean_squared_error(y_train, ann.predict(X_train, batch_size=batch_size))**0.5\n",
    "rmse_val = mean_squared_error(y_val, ann.predict(X_val, batch_size=batch_size))**0.5\n",
    "rmse_test = mean_squared_error(y_test, ann.predict(X_test, batch_size=batch_size))**0.5\n",
    "error['NN_CPU'] = [rmse_train, rmse_val, rmse_test, y_train.mean(), end-start]\n",
    "error"
   ]
  },
  {
   "cell_type": "markdown",
   "metadata": {},
   "source": [
    "### Plotting best results (NN)"
   ]
  },
  {
   "cell_type": "code",
   "execution_count": 16,
   "metadata": {},
   "outputs": [
    {
     "data": {
      "image/png": "[encoded data removed]",
      "text/plain": [
       "<Figure size 1500x500 with 2 Axes>"
      ]
     },
     "metadata": {
      "needs_background": "light"
     },
     "output_type": "display_data"
    }
   ],
   "source": [
    "y_pred = ann.predict(X_test, batch_size=batch_size)\n",
    "rel_res = (y_test.values-y_pred[:,0])/y_test.values\n",
    "\n",
    "plot_idx = np.random.choice(range(len(y_test)), size=len(y_test)//10, replace=False)\n",
    "\n",
    "fig, ax = plt.subplots(ncols=2, nrows=1, figsize=(15,5), dpi=100)\n",
    "\n",
    "ax[0].scatter(y_test.values[plot_idx], y_pred[:,0][plot_idx], alpha=0.05);\n",
    "ax[0].set_xlabel('$y_{test}$')\n",
    "ax[0].set_ylabel('$y_{pred}$')\n",
    "ax[0].set_xlim(0,100)\n",
    "ax[0].set_ylim(0,100)\n",
    "ax[0].plot(range(-10,130), range(-10,130), '--k', lw=2);\n",
    "\n",
    "ax[1].scatter(np.arange(len(rel_res))[plot_idx], rel_res[plot_idx], alpha=0.05);\n",
    "ax[1].set_xlabel('$i$')\n",
    "ax[1].set_ylabel('$|y_{test}^i-y_{pred}^i|/y_{test}^i$');\n",
    "ax[1].plot(range(len(rel_res)), 0*np.arange(len(rel_res)), '--k', lw=2);\n",
    "ax[1].set_ylim(-50,50);\n",
    "\n",
    "# sns.kdeplot(y_test.values-y_pred[:,0], ax=ax[1], shade=True)\n",
    "# ax[1].set_xlim(-50,50);"
   ]
  },
  {
   "cell_type": "markdown",
   "metadata": {},
   "source": [
    "## Feature Importance"
   ]
  },
  {
   "cell_type": "code",
   "execution_count": 17,
   "metadata": {},
   "outputs": [],
   "source": [
    "df_corr = train_dataset.corr()\n",
    "feature_importances['Duration_Corr'] = df_corr['Duration'].abs().sort_values()[:-1]"
   ]
  },
  {
   "cell_type": "code",
   "execution_count": 18,
   "metadata": {
    "scrolled": false
   },
   "outputs": [
    {
     "data": {
      "image/png": "[encoded data removed]",
      "text/plain": [
       "<Figure size 2000x400 with 4 Axes>"
      ]
     },
     "metadata": {
      "needs_background": "light"
     },
     "output_type": "display_data"
    }
   ],
   "source": [
    "feature_importances = feature_importances.sort_values('Duration_Corr')\n",
    "\n",
    "fig, ax = plt.subplots(ncols=4, nrows=1, figsize=(20,4), dpi=100, sharey=True)\n",
    "\n",
    "sns.barplot(y=feature_importances.index, x= feature_importances.LinReg, ax=ax[0])\n",
    "sns.barplot(y=feature_importances.index, x= feature_importances.RandForest, ax=ax[1])\n",
    "sns.barplot(y=feature_importances.index, x= feature_importances.XGBoost, ax=ax[2])\n",
    "sns.barplot(y=feature_importances.index, x= feature_importances.Duration_Corr, ax=ax[3]);"
   ]
  },
  {
   "cell_type": "markdown",
   "metadata": {},
   "source": [
    "## Hyperparameters Tuning\n",
    "Sklearn's ```RandomizedSearchCV``` with ```keras.wrappers.scikit_learn.KerasRegressor(model)```"
   ]
  },
  {
   "cell_type": "code",
   "execution_count": 19,
   "metadata": {},
   "outputs": [],
   "source": [
    "def build_model(n_hidden=1, n_neurons=16, learning_rate=1e-3, input_shape=[10], activation='relu'): \n",
    "    model = keras.models.Sequential() \n",
    "    model.add(keras.layers.InputLayer(input_shape=input_shape)) \n",
    "    for _ in range(n_hidden): \n",
    "        model.add(keras.layers.Dense(n_neurons, activation=activation)) \n",
    "    model.add(keras.layers.Dense(1)) \n",
    "    optimizer = keras.optimizers.Adam(lr=learning_rate) \n",
    "    model.compile(loss=\"mse\", optimizer=optimizer) \n",
    "    return model\n",
    "\n",
    "keras_reg = keras.wrappers.scikit_learn.KerasRegressor(build_model)"
   ]
  },
  {
   "cell_type": "code",
   "execution_count": 20,
   "metadata": {
    "scrolled": true
   },
   "outputs": [
    {
     "name": "stdout",
     "output_type": "stream",
     "text": [
      "Fitting 3 folds for each of 20 candidates, totalling 60 fits\n"
     ]
    },
    {
     "name": "stderr",
     "output_type": "stream",
     "text": [
      "/home/p285464/.conda/envs/tfEnv_1/lib/python3.7/site-packages/joblib/externals/loky/process_executor.py:706: UserWarning: A worker stopped while some jobs were given to the executor. This can be caused by a too short worker timeout or by a memory leak.\n",
      "  \"timeout or by a memory leak.\", UserWarning\n"
     ]
    },
    {
     "name": "stdout",
     "output_type": "stream",
     "text": [
      "Epoch 1/1000\n",
      "397/397 [==============================] - 3s 7ms/step - loss: 146.0260 - val_loss: 10.1287\n",
      "Epoch 2/1000\n",
      "397/397 [==============================] - 2s 6ms/step - loss: 9.0314 - val_loss: 4.5999\n",
      "Epoch 3/1000\n",
      "397/397 [==============================] - 2s 6ms/step - loss: 2.9188 - val_loss: 1.7364\n",
      "Epoch 4/1000\n",
      "397/397 [==============================] - 2s 6ms/step - loss: 1.7920 - val_loss: 1.7269\n",
      "Epoch 5/1000\n",
      "397/397 [==============================] - 2s 6ms/step - loss: 1.8073 - val_loss: 1.6645\n",
      "Epoch 6/1000\n",
      "397/397 [==============================] - 2s 6ms/step - loss: 1.7223 - val_loss: 1.6451\n",
      "Epoch 7/1000\n",
      "397/397 [==============================] - 2s 6ms/step - loss: 1.7240 - val_loss: 1.6963\n",
      "Epoch 8/1000\n",
      "397/397 [==============================] - 2s 6ms/step - loss: 1.7022 - val_loss: 1.6323\n",
      "Epoch 9/1000\n",
      "397/397 [==============================] - 2s 6ms/step - loss: 1.6763 - val_loss: 1.6570\n",
      "Epoch 10/1000\n",
      "397/397 [==============================] - 2s 6ms/step - loss: 1.6707 - val_loss: 1.6059\n",
      "Epoch 11/1000\n",
      "397/397 [==============================] - 2s 6ms/step - loss: 1.7449 - val_loss: 1.7046\n",
      "Epoch 12/1000\n",
      "397/397 [==============================] - 2s 6ms/step - loss: 1.6937 - val_loss: 1.5610\n",
      "Epoch 13/1000\n",
      "397/397 [==============================] - 2s 6ms/step - loss: 1.6447 - val_loss: 1.5583\n",
      "Epoch 14/1000\n",
      "397/397 [==============================] - 2s 6ms/step - loss: 1.6711 - val_loss: 1.8323\n",
      "Epoch 15/1000\n",
      "397/397 [==============================] - 2s 6ms/step - loss: 1.6620 - val_loss: 1.5426\n",
      "Epoch 16/1000\n",
      "397/397 [==============================] - 2s 6ms/step - loss: 1.6366 - val_loss: 1.9816\n",
      "Epoch 17/1000\n",
      "397/397 [==============================] - 2s 6ms/step - loss: 1.7083 - val_loss: 1.5865\n",
      "Epoch 18/1000\n",
      "397/397 [==============================] - 2s 6ms/step - loss: 1.6269 - val_loss: 1.6894\n",
      "Epoch 19/1000\n",
      "397/397 [==============================] - 2s 6ms/step - loss: 1.6240 - val_loss: 1.5960\n",
      "Epoch 20/1000\n",
      "397/397 [==============================] - 2s 6ms/step - loss: 1.6758 - val_loss: 1.6131\n"
     ]
    }
   ],
   "source": [
    "from sklearn.model_selection import RandomizedSearchCV\n",
    "\n",
    "epochs = 1000\n",
    "batch_size = 10000\n",
    "\n",
    "param_distribs = { \n",
    "    \"n_hidden\": np.arange(1, 6).tolist(), \n",
    "    \"n_neurons\": np.arange(1, 101).tolist(), \n",
    "    \"learning_rate\": np.linspace(3e-4, 3e-2, 100).tolist(),\n",
    "}\n",
    "\n",
    "rnd_search_cv = RandomizedSearchCV(keras_reg, param_distribs, n_iter=20, cv=3, n_jobs=-1, verbose=1)\n",
    "start = timer()\n",
    "rnd_search_cv.fit(X_train, y_train, validation_data=(X_val, y_val), \n",
    "                  epochs=epochs, batch_size=batch_size, validation_batch_size=batch_size,\n",
    "                  callbacks=[keras.callbacks.EarlyStopping(patience=5)])\n",
    "end = timer()"
   ]
  },
  {
   "cell_type": "code",
   "execution_count": 21,
   "metadata": {},
   "outputs": [
    {
     "data": {
      "text/plain": [
       "({'n_neurons': 75, 'n_hidden': 2, 'learning_rate': 0.012599999999999998},\n",
       " 1.5564419031143188)"
      ]
     },
     "execution_count": 21,
     "metadata": {},
     "output_type": "execute_result"
    }
   ],
   "source": [
    "rnd_search_cv.best_params_, -rnd_search_cv.best_score_"
   ]
  },
  {
   "cell_type": "code",
   "execution_count": 23,
   "metadata": {},
   "outputs": [
    {
     "data": {
      "text/html": [
       "<div>\n",
       "<style scoped>\n",
       "    .dataframe tbody tr th:only-of-type {\n",
       "        vertical-align: middle;\n",
       "    }\n",
       "\n",
       "    .dataframe tbody tr th {\n",
       "        vertical-align: top;\n",
       "    }\n",
       "\n",
       "    .dataframe thead th {\n",
       "        text-align: right;\n",
       "    }\n",
       "</style>\n",
       "<table border=\"1\" class=\"dataframe\">\n",
       "  <thead>\n",
       "    <tr style=\"text-align: right;\">\n",
       "      <th></th>\n",
       "      <th>LinReg</th>\n",
       "      <th>RandForest</th>\n",
       "      <th>XGBoost</th>\n",
       "      <th>NN_CPU</th>\n",
       "      <th>NN_CV</th>\n",
       "    </tr>\n",
       "  </thead>\n",
       "  <tbody>\n",
       "    <tr>\n",
       "      <th>Train Loss</th>\n",
       "      <td>4.145283</td>\n",
       "      <td>1.602342</td>\n",
       "      <td>3.687873</td>\n",
       "      <td>1.168208</td>\n",
       "      <td>1.279285</td>\n",
       "    </tr>\n",
       "    <tr>\n",
       "      <th>Val Loss</th>\n",
       "      <td>3.886713</td>\n",
       "      <td>3.415504</td>\n",
       "      <td>3.757414</td>\n",
       "      <td>1.189576</td>\n",
       "      <td>1.270073</td>\n",
       "    </tr>\n",
       "    <tr>\n",
       "      <th>Test Loss</th>\n",
       "      <td>4.274747</td>\n",
       "      <td>3.419786</td>\n",
       "      <td>3.770613</td>\n",
       "      <td>1.190364</td>\n",
       "      <td>1.290065</td>\n",
       "    </tr>\n",
       "    <tr>\n",
       "      <th>y_mean</th>\n",
       "      <td>20.644918</td>\n",
       "      <td>20.644918</td>\n",
       "      <td>20.644918</td>\n",
       "      <td>20.644918</td>\n",
       "      <td>20.644918</td>\n",
       "    </tr>\n",
       "    <tr>\n",
       "      <th>Time (s)</th>\n",
       "      <td>2.789263</td>\n",
       "      <td>547.514429</td>\n",
       "      <td>134.070765</td>\n",
       "      <td>221.045986</td>\n",
       "      <td>1106.231997</td>\n",
       "    </tr>\n",
       "  </tbody>\n",
       "</table>\n",
       "</div>"
      ],
      "text/plain": [
       "               LinReg  RandForest     XGBoost      NN_CPU        NN_CV\n",
       "Train Loss   4.145283    1.602342    3.687873    1.168208     1.279285\n",
       "Val Loss     3.886713    3.415504    3.757414    1.189576     1.270073\n",
       "Test Loss    4.274747    3.419786    3.770613    1.190364     1.290065\n",
       "y_mean      20.644918   20.644918   20.644918   20.644918    20.644918\n",
       "Time (s)     2.789263  547.514429  134.070765  221.045986  1106.231997"
      ]
     },
     "execution_count": 23,
     "metadata": {},
     "output_type": "execute_result"
    }
   ],
   "source": [
    "from sklearn.metrics import mean_squared_error\n",
    "\n",
    "rmse_train = mean_squared_error(y_train, rnd_search_cv.predict(X_train))**0.5\n",
    "rmse_val = mean_squared_error(y_val, rnd_search_cv.predict(X_val))**0.5\n",
    "rmse_test = mean_squared_error(y_test, rnd_search_cv.predict(X_test))**0.5\n",
    "error['NN_CV'] = [rmse_train, rmse_val, rmse_test, y_train.mean(), end-start]\n",
    "error"
   ]
  },
  {
   "cell_type": "markdown",
   "metadata": {},
   "source": [
    "## Explainable AI/ML\n",
    "\n",
    "[What is Explainable AI?](https://en.wikipedia.org/wiki/Explainable_artificial_intelligence)\n",
    "\n",
    "Explainable AI Tool - [SHAP (SHapley Additive exPlanations)](https://shap.readthedocs.io/en/latest/tabular_examples.html) "
   ]
  },
  {
   "cell_type": "code",
   "execution_count": 25,
   "metadata": {},
   "outputs": [
    {
     "data": {
      "text/plain": [
       "Index(['Distance', 'Haversine', 'Phour', 'Pmin', 'Dhour', 'Dmin', 'Temp',\n",
       "       'Humid', 'Solar', 'Dust'],\n",
       "      dtype='object')"
      ]
     },
     "execution_count": 25,
     "metadata": {},
     "output_type": "execute_result"
    }
   ],
   "source": [
    "rfe_features"
   ]
  },
  {
   "cell_type": "code",
   "execution_count": null,
   "metadata": {},
   "outputs": [],
   "source": []
  },
  {
   "cell_type": "code",
   "execution_count": null,
   "metadata": {},
   "outputs": [],
   "source": []
  },
  {
   "cell_type": "code",
   "execution_count": null,
   "metadata": {},
   "outputs": [],
   "source": []
  },
  {
   "cell_type": "code",
   "execution_count": null,
   "metadata": {},
   "outputs": [],
   "source": []
  },
  {
   "cell_type": "code",
   "execution_count": null,
   "metadata": {},
   "outputs": [],
   "source": []
  },
  {
   "cell_type": "code",
   "execution_count": null,
   "metadata": {},
   "outputs": [],
   "source": []
  },
  {
   "cell_type": "code",
   "execution_count": null,
   "metadata": {},
   "outputs": [],
   "source": []
  }
 ],
 "metadata": {
  "interpreter": {
   "hash": "c3b1f0aa73ce6a53838a2507dee39748d09bb5596497487604e75b434ade7b74"
  },
  "kernelspec": {
   "display_name": "Python 3",
   "language": "python",
   "name": "python3"
  },
  "language_info": {
   "codemirror_mode": {
    "name": "ipython",
    "version": 3
   },
   "file_extension": ".py",
   "mimetype": "text/x-python",
   "name": "python",
   "nbconvert_exporter": "python",
   "pygments_lexer": "ipython3",
   "version": "3.7.6"
  }
 },
 "nbformat": 4,
 "nbformat_minor": 4
}
